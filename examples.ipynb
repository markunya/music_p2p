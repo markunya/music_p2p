{
 "cells": [
  {
   "cell_type": "code",
   "execution_count": null,
   "metadata": {},
   "outputs": [],
   "source": [
    "import IPython.display as ipd"
   ]
  },
  {
   "cell_type": "markdown",
   "metadata": {},
   "source": [
    "# Lyric replacement"
   ]
  },
  {
   "cell_type": "markdown",
   "metadata": {},
   "source": [
    "src_lyrics=\"Flying past the sun, my rocket leaves the Earth!\"\n",
    "\n",
    "\n",
    "tgt_lyrics=\"Crying from the gun, I question what it's worth\"\n",
    "\n",
    "\n",
    "tags=\"synthwave, retro wave, 80s synths, analog sounds, spacey, nostalgic, futuristic\""
   ]
  },
  {
   "cell_type": "code",
   "execution_count": null,
   "metadata": {},
   "outputs": [],
   "source": [
    "print('Original')\n",
    "ipd.display(ipd.Audio('to_demo/lyrics_editing/synthwave/synthwave_orig.wav'))\n",
    "print('Baseline')\n",
    "ipd.display(ipd.Audio('to_demo/lyrics_editing/synthwave/synthwave_baseline.wav'))\n",
    "print('Music P2P')\n",
    "ipd.display(ipd.Audio('to_demo/lyrics_editing/synthwave/synthwave_p2p.wav'))"
   ]
  },
  {
   "cell_type": "markdown",
   "metadata": {},
   "source": [
    "src_lyrics=\"Crashing through the gate, my engine starts to scream!\"\n",
    "\n",
    "\n",
    "tgt_lyrics=\"Flashing into fate, I’m chasing every dream!\"\n",
    "\n",
    "\n",
    "tags=\"rock, punk rock, guitar, anthemic, fast tempo, rebellion, energetic, live drums\"\n"
   ]
  },
  {
   "cell_type": "code",
   "execution_count": null,
   "metadata": {},
   "outputs": [],
   "source": [
    "print('Original')\n",
    "ipd.display(ipd.Audio('to_demo/lyrics_editing/punk_rock/punk_rock_orig.wav'))\n",
    "print('Baseline')\n",
    "ipd.display(ipd.Audio('to_demo/lyrics_editing/punk_rock/punk_rock_baseline.wav'))\n",
    "print('Music P2P')\n",
    "ipd.display(ipd.Audio('to_demo/lyrics_editing/punk_rock/punk_rock_p2p.wav'))"
   ]
  },
  {
   "cell_type": "markdown",
   "metadata": {},
   "source": [
    "# Tags replacement"
   ]
  },
  {
   "cell_type": "markdown",
   "metadata": {},
   "source": [
    "lyrics = \"'''   \n",
    "[verse]     \n",
    "Sun dips low the night ignites  \n",
    "Bassline hums with gleaming lights  \n",
    "Electric guitar singing tales so fine   \n",
    "In the rhythm we all intertwine \n",
    "\n",
    "[verse] \n",
    "Drums beat steady calling out   \n",
    "Percussion guides no room for doubt \n",
    "Electric pulse through every vein   \n",
    "Dance away every ounce of pain  \n",
    "\n",
    "[chorus]    \n",
    "Feel the rhythm feel the flow   \n",
    "Let the music take control  \n",
    "Bassline deep electric hum  \n",
    "In this night we're never numb  \n",
    "\n",
    "[bridge]    \n",
    "Stars above they start to glow  \n",
    "Echoes of the night's soft glow \n",
    "Electric strings weave through the air  \n",
    "In this moment none compare \n",
    "\n",
    "[verse] \n",
    "Heartbeats sync with every tone \n",
    "Lost in music never alone   \n",
    "Electric tales of love and peace    \n",
    "In this groove we find release  \n",
    "\"\"\"\n",
    "\n",
    "\n",
    "src_tags=\"male voice, Cuban music, salsa, son, Afro-Cuban, traditional Cuban\"\n",
    "\n",
    "\n",
    "tgt_tags=\"female voice, Latin pop, EDM, sidechain, bright synths, wide chorus\"\n"
   ]
  },
  {
   "cell_type": "code",
   "execution_count": null,
   "metadata": {},
   "outputs": [],
   "source": [
    "print('Original')\n",
    "ipd.display(ipd.Audio('to_demo/tags_editing/cuba_orig.mp3'))\n",
    "print('Baseline')\n",
    "ipd.display(ipd.Audio('to_demo/tags_editing/cuba_baseline.mp3'))\n",
    "print('Music P2P')\n",
    "ipd.display(ipd.Audio('to_demo/tags_editing/cuba_p2p.mp3'))"
   ]
  }
 ],
 "metadata": {
  "kernelspec": {
   "display_name": "Python 3",
   "language": "python",
   "name": "python3"
  },
  "language_info": {
   "codemirror_mode": {
    "name": "ipython",
    "version": 3
   },
   "file_extension": ".py",
   "mimetype": "text/x-python",
   "name": "python",
   "nbconvert_exporter": "python",
   "pygments_lexer": "ipython3",
   "version": "3.13.3"
  }
 },
 "nbformat": 4,
 "nbformat_minor": 2
}
