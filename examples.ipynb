{
 "cells": [
  {
   "cell_type": "code",
   "execution_count": 1,
   "metadata": {},
   "outputs": [],
   "source": [
    "import IPython.display as ipd"
   ]
  },
  {
   "cell_type": "markdown",
   "metadata": {},
   "source": [
    "# Lyric replacement"
   ]
  },
  {
   "cell_type": "markdown",
   "metadata": {},
   "source": [
    "src_lyrics=\"Flying past the sun, my rocket leaves the Earth!\"\n",
    "\n",
    "\n",
    "tgt_lyrics=\"Crying from the gun, I question what it's worth\"\n",
    "\n",
    "\n",
    "tags=\"synthwave, retro wave, 80s synths, analog sounds, spacey, nostalgic, futuristic\""
   ]
  },
  {
   "cell_type": "code",
   "execution_count": null,
   "metadata": {},
   "outputs": [
    {
     "name": "stdout",
     "output_type": "stream",
     "text": [
      "Original\n",
      "Baseline\n",
      "Music P2P\n"
     ]
    }
   ],
   "source": [
    "print('Original')\n",
    "ipd.display(ipd.Audio('to_demo/synthwave_orig.wav'))\n",
    "print('Baseline')\n",
    "ipd.display(ipd.Audio('to_demo/synthwave_baseline.wav'))\n",
    "print('Music P2P')\n",
    "ipd.display(ipd.Audio('to_demo/synthwave_p2p.wav'))"
   ]
  },
  {
   "cell_type": "markdown",
   "metadata": {},
   "source": [
    "# Tags replacement"
   ]
  },
  {
   "cell_type": "markdown",
   "metadata": {},
   "source": [
    "# Editing real music"
   ]
  }
 ],
 "metadata": {
  "kernelspec": {
   "display_name": "music_p2p",
   "language": "python",
   "name": "python3"
  },
  "language_info": {
   "codemirror_mode": {
    "name": "ipython",
    "version": 3
   },
   "file_extension": ".py",
   "mimetype": "text/x-python",
   "name": "python",
   "nbconvert_exporter": "python",
   "pygments_lexer": "ipython3",
   "version": "3.10.18"
  }
 },
 "nbformat": 4,
 "nbformat_minor": 2
}
